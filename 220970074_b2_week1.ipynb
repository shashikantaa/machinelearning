{
 "cells": [
  {
   "cell_type": "code",
   "execution_count": 1,
   "id": "b917bca8",
   "metadata": {},
   "outputs": [
    {
     "name": "stdout",
     "output_type": "stream",
     "text": [
      "Enter number3\n"
     ]
    },
    {
     "data": {
      "text/plain": [
       "'3'"
      ]
     },
     "execution_count": 1,
     "metadata": {},
     "output_type": "execute_result"
    }
   ],
   "source": [
    "a = input('Enter number')\n",
    "a\n",
    "type(a)\n",
    "a"
   ]
  },
  {
   "cell_type": "code",
   "execution_count": 3,
   "id": "3ecd3e6b",
   "metadata": {},
   "outputs": [
    {
     "name": "stdout",
     "output_type": "stream",
     "text": [
      "Enter first number3\n",
      "Enter second number3\n"
     ]
    },
    {
     "data": {
      "text/plain": [
       "6"
      ]
     },
     "execution_count": 3,
     "metadata": {},
     "output_type": "execute_result"
    }
   ],
   "source": [
    "a = int(input('Enter first number'))\n",
    "b = int(input('Enter second number'))\n",
    "sum = a + b\n",
    "sum"
   ]
  },
  {
   "cell_type": "code",
   "execution_count": 4,
   "id": "6885a2fa",
   "metadata": {},
   "outputs": [
    {
     "name": "stdout",
     "output_type": "stream",
     "text": [
      "Enter first number3\n",
      "Enter second number3\n"
     ]
    },
    {
     "data": {
      "text/plain": [
       "9"
      ]
     },
     "execution_count": 4,
     "metadata": {},
     "output_type": "execute_result"
    }
   ],
   "source": [
    "a = int(input('Enter first number'))\n",
    "b = int(input('Enter second number'))\n",
    "s = a * b\n",
    "s"
   ]
  },
  {
   "cell_type": "code",
   "execution_count": 5,
   "id": "3e695e78",
   "metadata": {},
   "outputs": [
    {
     "name": "stdout",
     "output_type": "stream",
     "text": [
      "Enter first number3\n",
      "Enter second number3\n"
     ]
    }
   ],
   "source": [
    "%run D:\\mca\\sampal.py\n",
    "    "
   ]
  },
  {
   "cell_type": "code",
   "execution_count": 6,
   "id": "afe22613",
   "metadata": {},
   "outputs": [],
   "source": [
    "def fn1():\n",
    "    print('My first function')"
   ]
  },
  {
   "cell_type": "code",
   "execution_count": 7,
   "id": "e90533f4",
   "metadata": {},
   "outputs": [
    {
     "name": "stdout",
     "output_type": "stream",
     "text": [
      "My first function\n"
     ]
    }
   ],
   "source": [
    "fn1()"
   ]
  },
  {
   "cell_type": "code",
   "execution_count": 8,
   "id": "c05b6186",
   "metadata": {},
   "outputs": [],
   "source": [
    "def value(items):\n",
    "    for item in items:\n",
    "        print(item, end='')"
   ]
  },
  {
   "cell_type": "code",
   "execution_count": 9,
   "id": "65f84f9e",
   "metadata": {},
   "outputs": [
    {
     "name": "stdout",
     "output_type": "stream",
     "text": [
      "1234"
     ]
    }
   ],
   "source": [
    "value([1,2,3,4])"
   ]
  },
  {
   "cell_type": "code",
   "execution_count": 10,
   "id": "d5e5defd",
   "metadata": {},
   "outputs": [
    {
     "name": "stdout",
     "output_type": "stream",
     "text": [
      "s\n",
      "p\n",
      "a\n",
      "m\n"
     ]
    }
   ],
   "source": [
    "for x in'spam':\n",
    "    print(x)"
   ]
  },
  {
   "cell_type": "code",
   "execution_count": 11,
   "id": "3b45ad43",
   "metadata": {},
   "outputs": [],
   "source": [
    "def value(items):\n",
    "    for item in items:\n",
    "        print(item, end='\\n')"
   ]
  },
  {
   "cell_type": "code",
   "execution_count": 12,
   "id": "4f638270",
   "metadata": {},
   "outputs": [
    {
     "name": "stdout",
     "output_type": "stream",
     "text": [
      "1\n",
      "2\n",
      "3\n",
      "4\n"
     ]
    }
   ],
   "source": [
    "value([1,2,3,4])"
   ]
  },
  {
   "cell_type": "code",
   "execution_count": 13,
   "id": "dc1fde1c",
   "metadata": {},
   "outputs": [
    {
     "name": "stdout",
     "output_type": "stream",
     "text": [
      "True\n"
     ]
    }
   ],
   "source": [
    "if True:\n",
    "    print(\"True\")\n",
    "else:\n",
    "        print(\"False\")"
   ]
  },
  {
   "cell_type": "code",
   "execution_count": 14,
   "id": "e10872f1",
   "metadata": {},
   "outputs": [
    {
     "name": "stdout",
     "output_type": "stream",
     "text": [
      "True\n"
     ]
    }
   ],
   "source": [
    "if False:\n",
    "    print(\"False\")\n",
    "else:\n",
    "        print(\"True\")"
   ]
  },
  {
   "cell_type": "code",
   "execution_count": 15,
   "id": "eae78b79",
   "metadata": {},
   "outputs": [
    {
     "name": "stdout",
     "output_type": "stream",
     "text": [
      "Enter first number3\n",
      "Enter second number3\n",
      "b is greater\n"
     ]
    }
   ],
   "source": [
    "a = input('Enter first number')\n",
    "b = input('Enter second number')\n",
    "if a>b:\n",
    "    print(\"a is lower\")\n",
    "else:\n",
    "        print(\"b is greater\")"
   ]
  },
  {
   "cell_type": "code",
   "execution_count": 17,
   "id": "4e6c6c59",
   "metadata": {},
   "outputs": [
    {
     "name": "stdout",
     "output_type": "stream",
     "text": [
      "Enter number of widgets number5\n",
      "Enter number of gizmos number5\n",
      "Total weight of the widget =  375\n",
      "Total weight of the gizmos =  560\n",
      "Total weight of the widget and gizmos =  935\n"
     ]
    }
   ],
   "source": [
    "#1) An online retailer sells two products: widgets and gizmos. Each widget weighs 75 grams. \n",
    "#Each gizmo weighs 112 grams. Write a program that reads the number of widgets and the \n",
    "#number of gizmos in an order from the user. Then your program should compute and display \n",
    "#the total weight of the order\n",
    "a = int(input('Enter number of widgets number'))\n",
    "b = int(input('Enter number of gizmos number'))\n",
    "ww= a * 75\n",
    "gw= b * 112\n",
    "print(\"Total weight of the widget = \",ww)\n",
    "print(\"Total weight of the gizmos = \",gw)\n",
    "total = ww + gw\n",
    "print(\"Total weight of the widget and gizmos = \",total)\n"
   ]
  },
  {
   "cell_type": "code",
   "execution_count": 2,
   "id": "bf5e82fa",
   "metadata": {},
   "outputs": [
    {
     "name": "stdout",
     "output_type": "stream",
     "text": [
      "Input a dog age in human years41\n",
      "The dog age is 177\n"
     ]
    }
   ],
   "source": [
    "#2) It is commonly said that one human year is equivalent to 7 dog years. However this simple \n",
    "#conversion fails to recognize that dogs reach adulthood in approximately two years. As a result, \n",
    "#some people believe that it is better to count each of the first two human years as 10.5 dog \n",
    "#years, and then count each additional human year as 4 dog years. \n",
    "#Write a program that implements the conversion from human years to dog years described in \n",
    "#the previous paragraph. Ensure that your program works correctly for conversions of less than \n",
    "#two human years and for conversions of two or more human years. Your program should \n",
    "#display an appropriate error message if the user enters a negative number.\n",
    "humage = int(input('Input a dog age in human years'))\n",
    "\n",
    "if humage < 0:\n",
    "    print('Age must be positive number')\n",
    "    exit()\n",
    "\n",
    "elif humage <= 2:\n",
    "    dogage = humage * 10.5\n",
    "else:\n",
    "    dogage = 21 + (humage - 2)*4\n",
    "\n",
    "print('The dog age is', dogage)"
   ]
  },
  {
   "cell_type": "code",
   "execution_count": 4,
   "id": "0839912c",
   "metadata": {},
   "outputs": [
    {
     "name": "stdout",
     "output_type": "stream",
     "text": [
      "What month is it? February\n",
      "Number of days: 28 or 29\n"
     ]
    }
   ],
   "source": [
    "#3)The length of a month varies from 28 to 31 days. In this exercise you will create a program \n",
    "#that reads the name of a month from the user as a string. Then your program should display the \n",
    "#number of days in that month. Display “28 or 29 days” for February so that leap years are \n",
    "#addressed.\n",
    "name = input('What month is it? ')\n",
    "\n",
    "thirty_days = ['April','June','September','November']\n",
    "thirty_one_days = ['January','March','July','August','October','December']\n",
    "feb = ['February']\n",
    "\n",
    "if name in thirty_days:\n",
    "    print('Number of days: 30')\n",
    "elif name in thirty_one_days:\n",
    "    print('Number of days: 31')\n",
    "elif name in feb:\n",
    "    print('Number of days: 28 or 29')"
   ]
  },
  {
   "cell_type": "code",
   "execution_count": 11,
   "id": "b87face4",
   "metadata": {},
   "outputs": [
    {
     "name": "stdout",
     "output_type": "stream",
     "text": [
      "Enter the name of the month:September\n",
      "September has 30 days in it.\n"
     ]
    }
   ],
   "source": [
    "month= input(\"Enter the name of the month:\")\n",
    "days=31\n",
    "if month == \"April\" or month == \"June\" or \\\n",
    "month == \"September\" or month == \"November\":\n",
    "    days = 30\n",
    "elif month == \"February\":\n",
    "    days = \"28 or 29\"\n",
    "print(month, \"has\", days, \"days in it.\")"
   ]
  },
  {
   "cell_type": "code",
   "execution_count": 16,
   "id": "c9345ccf",
   "metadata": {},
   "outputs": [
    {
     "name": "stdout",
     "output_type": "stream",
     "text": [
      "put the column of the square: b\n",
      "put the row of the square: 1\n",
      "The color of the square is: white\n"
     ]
    }
   ],
   "source": [
    "#4) Positions on a chess board are identified by a letter and a number. The letter identifies\n",
    "#the column, while the number identifies the row, as shown below:\n",
    "#Write a program that reads a position from the user. Use an if statement to determine if the \n",
    "#column begins with a black square or a white square. Then use modular arithmetic to report \n",
    "#the color of the square in that row. For example, if the user enters a1 then your program should \n",
    "#report that the square is black. If the user enters d5 then your program should report that the \n",
    "#square is white. Your program may assume that a valid position will always be entered. It does \n",
    "#not need to perform any error checking.\n",
    "\n",
    "column = input('put the column of the square: ')\n",
    "if column == 'a' or  column == 'c' or column == 'e' or column == 'g':\n",
    "    column = 1\n",
    "elif column == 'b' or column == 'd' or column == 'f' or column == 'h':\n",
    "    column = 0\n",
    "else:\n",
    "    print('choose from a to h')\n",
    "row = input('put the row of the square: ')\n",
    "if row == '1' or row == '3' or row == '5' or row == '7':\n",
    "    row = 1\n",
    "elif row == '2' or row == '4' or row == '6' or row == '8':\n",
    "    row = 0\n",
    "else:\n",
    "    print('choose from 1 to 8')\n",
    "square = row + column\n",
    "if square == 0 or square == 2:\n",
    "    square = 'black'\n",
    "elif square == 1:\n",
    "    square = 'white' \n",
    "print('The color of the square is:', square)"
   ]
  },
  {
   "cell_type": "code",
   "execution_count": 1,
   "id": "388e9075",
   "metadata": {},
   "outputs": [
    {
     "name": "stdout",
     "output_type": "stream",
     "text": [
      "Input word here: iihii\n",
      "Palindrome\n"
     ]
    }
   ],
   "source": [
    "#5) A string is a palindrome if it is identical forward and backward. For example “anna”, “civic”, \n",
    "#“level” and “hannah” are all examples of palindromic words. Write a program that reads a \n",
    "#string from the user and uses a loop to determines whether or not it is a palindrome. Display \n",
    "#the result, including a meaningful output message.\n",
    "#Note: Write a user-defined function that takes a string as user input from the terminal and \n",
    "#returns the status as “palindrome” or “non-palindrome”.\n",
    "\n",
    "a = input('Input word here: ')\n",
    " \n",
    "b = \"\"\n",
    "for i in a:\n",
    "    b = i + b\n",
    " \n",
    "if (a == b):\n",
    "    print(\"Palindrome\")\n",
    "else:\n",
    "    print(\"Non-Palindrome\")"
   ]
  },
  {
   "cell_type": "code",
   "execution_count": 3,
   "id": "03befeaa",
   "metadata": {},
   "outputs": [
    {
     "name": "stdout",
     "output_type": "stream",
     "text": [
      "\u001b[31m 3 \u001b[0m \u001b[31m 5 \u001b[0m 8 \u001b[0m 9 \u001b[0m 11 \u001b[0m \u001b[31m 34 \u001b[0m \u001b[31m 50 \u001b[0m \n",
      "[8, 9, 11]\n"
     ]
    }
   ],
   "source": [
    "# 6)When analysing data collected as part of a science experiment it may be desirable to remove\n",
    "# the most extreme values before performing other calculations. Write a function that takes a list\n",
    "# of values and an non-negative integer, n, as its parameters. The function should create a new\n",
    "# copy of the list with the n largest elements and the n smallest elements removed. Then it should\n",
    "# return the new copy of the list as the function’s only result. The order of the elements in the\n",
    "# returned list does not have to match the order of the elements in the original list.\n",
    "\n",
    "def hint(data, n):\n",
    "    for i in range(0, len(data)):\n",
    "        if(i<n or i >= len(data) - n):\n",
    "            print(\"\\x1b[31m\", data[i], \"\\x1b[0m\", end=\" \")\n",
    "        else:\n",
    "            print(data[i], \"\\x1b[0m\", end = \" \")\n",
    "    print()\n",
    "\n",
    "def stripData(data, n):\n",
    "    res = data.copy()\n",
    "    res.sort()\n",
    "    hint(res, n)\n",
    "    \n",
    "    return res[n:-n]\n",
    "\n",
    "in_data = [11,34,5,3,50,8,9]\n",
    "clean_data = stripData(in_data, 2)\n",
    "print(clean_data)\n"
   ]
  },
  {
   "cell_type": "code",
   "execution_count": 39,
   "id": "647f9a8a",
   "metadata": {},
   "outputs": [
    {
     "name": "stdout",
     "output_type": "stream",
     "text": [
      "Enter number of elements : 5\n",
      "1\n",
      "2\n",
      "2\n",
      "4\n",
      "5\n",
      "Minumum is : 1\n",
      "Maximum is : 5\n",
      "Median is : 2\n",
      "Mode is : 2\n"
     ]
    }
   ],
   "source": [
    "#8)Write a program that takes a set of 10 integers as user input. Store these values in a List Data \n",
    "#Structure. Write a user-defined function to print the following by using appropriate user\u0002defined functions:\n",
    "#(i) Find the minimum, maximum, median, and mode values.\n",
    "\n",
    "import statistics\n",
    "lst = []\n",
    "n = int(input(\"Enter number of elements : \"))\n",
    "for i in range(0, n):\n",
    "    ele = int(input())\n",
    "    lst.append(ele)\n",
    "mi = min(lst)\n",
    "mx = max(lst)\n",
    "me = statistics.median(lst)\n",
    "mo = statistics.mode(lst)\n",
    "print(\"Minumum is :\", mi)\n",
    "print(\"Maximum is :\", mx)\n",
    "print(\"Median is :\", me)\n",
    "print(\"Mode is :\", mo)"
   ]
  },
  {
   "cell_type": "markdown",
   "id": "0759ebc6",
   "metadata": {},
   "source": [
    "### "
   ]
  }
 ],
 "metadata": {
  "kernelspec": {
   "display_name": "Python 3 (ipykernel)",
   "language": "python",
   "name": "python3"
  },
  "language_info": {
   "codemirror_mode": {
    "name": "ipython",
    "version": 3
   },
   "file_extension": ".py",
   "mimetype": "text/x-python",
   "name": "python",
   "nbconvert_exporter": "python",
   "pygments_lexer": "ipython3",
   "version": "3.11.3"
  }
 },
 "nbformat": 4,
 "nbformat_minor": 5
}
