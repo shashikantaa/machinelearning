{
 "cells": [
  {
   "cell_type": "markdown",
   "id": "b8834828",
   "metadata": {},
   "source": [
    "# PCA(principles components analysis)"
   ]
  },
  {
   "cell_type": "code",
   "execution_count": 76,
   "id": "d984f910",
   "metadata": {},
   "outputs": [],
   "source": [
    "import numpy as np\n",
    "import pandas as pd"
   ]
  },
  {
   "cell_type": "code",
   "execution_count": 35,
   "id": "61e89095",
   "metadata": {},
   "outputs": [],
   "source": [
    "df=pd.read_csv(r\"D:\\mca_074\\New folder\\Book1.csv\")"
   ]
  },
  {
   "cell_type": "code",
   "execution_count": 12,
   "id": "60c8bb3c",
   "metadata": {},
   "outputs": [
    {
     "data": {
      "text/html": [
       "<div>\n",
       "<style scoped>\n",
       "    .dataframe tbody tr th:only-of-type {\n",
       "        vertical-align: middle;\n",
       "    }\n",
       "\n",
       "    .dataframe tbody tr th {\n",
       "        vertical-align: top;\n",
       "    }\n",
       "\n",
       "    .dataframe thead th {\n",
       "        text-align: right;\n",
       "    }\n",
       "</style>\n",
       "<table border=\"1\" class=\"dataframe\">\n",
       "  <thead>\n",
       "    <tr style=\"text-align: right;\">\n",
       "      <th></th>\n",
       "      <th>s</th>\n",
       "      <th>x</th>\n",
       "      <th>y</th>\n",
       "    </tr>\n",
       "  </thead>\n",
       "  <tbody>\n",
       "    <tr>\n",
       "      <th>0</th>\n",
       "      <td>1</td>\n",
       "      <td>105.0</td>\n",
       "      <td>42.0</td>\n",
       "    </tr>\n",
       "    <tr>\n",
       "      <th>1</th>\n",
       "      <td>2</td>\n",
       "      <td>115.0</td>\n",
       "      <td>46.0</td>\n",
       "    </tr>\n",
       "    <tr>\n",
       "      <th>2</th>\n",
       "      <td>3</td>\n",
       "      <td>105.0</td>\n",
       "      <td>26.0</td>\n",
       "    </tr>\n",
       "    <tr>\n",
       "      <th>3</th>\n",
       "      <td>4</td>\n",
       "      <td>94.0</td>\n",
       "      <td>39.0</td>\n",
       "    </tr>\n",
       "    <tr>\n",
       "      <th>4</th>\n",
       "      <td>5</td>\n",
       "      <td>96.0</td>\n",
       "      <td>29.0</td>\n",
       "    </tr>\n",
       "    <tr>\n",
       "      <th>5</th>\n",
       "      <td>6</td>\n",
       "      <td>104.0</td>\n",
       "      <td>33.0</td>\n",
       "    </tr>\n",
       "    <tr>\n",
       "      <th>6</th>\n",
       "      <td>7</td>\n",
       "      <td>120.0</td>\n",
       "      <td>48.0</td>\n",
       "    </tr>\n",
       "    <tr>\n",
       "      <th>7</th>\n",
       "      <td>8</td>\n",
       "      <td>121.0</td>\n",
       "      <td>98.0</td>\n",
       "    </tr>\n",
       "    <tr>\n",
       "      <th>8</th>\n",
       "      <td>9</td>\n",
       "      <td>127.0</td>\n",
       "      <td>46.0</td>\n",
       "    </tr>\n",
       "    <tr>\n",
       "      <th>9</th>\n",
       "      <td>10</td>\n",
       "      <td>79.0</td>\n",
       "      <td>20.0</td>\n",
       "    </tr>\n",
       "    <tr>\n",
       "      <th>10</th>\n",
       "      <td>mean</td>\n",
       "      <td>106.6</td>\n",
       "      <td>42.7</td>\n",
       "    </tr>\n",
       "  </tbody>\n",
       "</table>\n",
       "</div>"
      ],
      "text/plain": [
       "       s      x     y\n",
       "0      1  105.0  42.0\n",
       "1      2  115.0  46.0\n",
       "2      3  105.0  26.0\n",
       "3      4   94.0  39.0\n",
       "4      5   96.0  29.0\n",
       "5      6  104.0  33.0\n",
       "6      7  120.0  48.0\n",
       "7      8  121.0  98.0\n",
       "8      9  127.0  46.0\n",
       "9     10   79.0  20.0\n",
       "10  mean  106.6  42.7"
      ]
     },
     "execution_count": 12,
     "metadata": {},
     "output_type": "execute_result"
    }
   ],
   "source": [
    "df"
   ]
  },
  {
   "cell_type": "code",
   "execution_count": 60,
   "id": "cc41151e",
   "metadata": {},
   "outputs": [
    {
     "data": {
      "text/plain": [
       "0     105.0\n",
       "1     115.0\n",
       "2     105.0\n",
       "3      94.0\n",
       "4      96.0\n",
       "5     104.0\n",
       "6     120.0\n",
       "7     121.0\n",
       "8     127.0\n",
       "9      79.0\n",
       "10    106.6\n",
       "Name: x, dtype: float64"
      ]
     },
     "execution_count": 60,
     "metadata": {},
     "output_type": "execute_result"
    }
   ],
   "source": [
    "x=df['x']\n",
    "x"
   ]
  },
  {
   "cell_type": "code",
   "execution_count": 59,
   "id": "79eecfc1",
   "metadata": {},
   "outputs": [
    {
     "data": {
      "text/plain": [
       "0     42.0\n",
       "1     46.0\n",
       "2     26.0\n",
       "3     39.0\n",
       "4     29.0\n",
       "5     33.0\n",
       "6     48.0\n",
       "7     98.0\n",
       "8     46.0\n",
       "9     20.0\n",
       "10    42.7\n",
       "Name: y, dtype: float64"
      ]
     },
     "execution_count": 59,
     "metadata": {},
     "output_type": "execute_result"
    }
   ],
   "source": [
    "y=df['y']\n",
    "y"
   ]
  },
  {
   "cell_type": "code",
   "execution_count": 64,
   "id": "0f259fb5",
   "metadata": {},
   "outputs": [
    {
     "data": {
      "text/plain": [
       "array([[191.84, 183.38],\n",
       "       [183.38, 419.81]])"
      ]
     },
     "execution_count": 64,
     "metadata": {},
     "output_type": "execute_result"
    }
   ],
   "source": [
    "cov=np.cov(x,y)\n",
    "cov"
   ]
  },
  {
   "cell_type": "code",
   "execution_count": 67,
   "id": "572aa186",
   "metadata": {},
   "outputs": [],
   "source": [
    "eig_val,eig_vec=np.linalg.eig(cov)"
   ]
  },
  {
   "cell_type": "code",
   "execution_count": 68,
   "id": "00eec933",
   "metadata": {},
   "outputs": [
    {
     "name": "stdout",
     "output_type": "stream",
     "text": [
      "[[-0.87404447 -0.48584592]\n",
      " [ 0.48584592 -0.87404447]]\n",
      "[ 89.90648615 521.74351385]\n"
     ]
    }
   ],
   "source": [
    "print(eig_vec)\n",
    "print(eig_val)"
   ]
  },
  {
   "cell_type": "markdown",
   "id": "308c1c22",
   "metadata": {},
   "source": [
    "# up to here"
   ]
  },
  {
   "cell_type": "code",
   "execution_count": 70,
   "id": "6ff85b5b",
   "metadata": {},
   "outputs": [
    {
     "data": {
      "text/plain": [
       "106.6"
      ]
     },
     "execution_count": 70,
     "metadata": {},
     "output_type": "execute_result"
    }
   ],
   "source": [
    "xmean= x.mean()\n",
    "xmean"
   ]
  },
  {
   "cell_type": "code",
   "execution_count": 71,
   "id": "407ec85b",
   "metadata": {},
   "outputs": [
    {
     "data": {
      "text/plain": [
       "13.850631754544628"
      ]
     },
     "execution_count": 71,
     "metadata": {},
     "output_type": "execute_result"
    }
   ],
   "source": [
    "xstd=x.std()\n",
    "xstd"
   ]
  },
  {
   "cell_type": "code",
   "execution_count": 72,
   "id": "55e032f5",
   "metadata": {},
   "outputs": [
    {
     "data": {
      "text/plain": [
       "0    -0.115518\n",
       "1     0.606471\n",
       "2    -0.115518\n",
       "3    -0.909706\n",
       "4    -0.765308\n",
       "5    -0.187717\n",
       "6     0.967465\n",
       "7     1.039664\n",
       "8     1.472857\n",
       "9    -1.992689\n",
       "10    0.000000\n",
       "Name: x, dtype: float64"
      ]
     },
     "execution_count": 72,
     "metadata": {},
     "output_type": "execute_result"
    }
   ],
   "source": [
    "z = (x - xmean) / xstd\n",
    "z"
   ]
  },
  {
   "cell_type": "code",
   "execution_count": 51,
   "id": "a2da0570",
   "metadata": {},
   "outputs": [
    {
     "data": {
      "text/plain": [
       "array([[1, 2],\n",
       "       [4, 5]])"
      ]
     },
     "execution_count": 51,
     "metadata": {},
     "output_type": "execute_result"
    }
   ],
   "source": [
    "data = np.array([\n",
    "    [1, 2],\n",
    "    [4, 5]])\n",
    "data"
   ]
  },
  {
   "cell_type": "code",
   "execution_count": 54,
   "id": "51abcff5",
   "metadata": {},
   "outputs": [],
   "source": [
    "evalues, evectors = np.linalg.eig(data)"
   ]
  },
  {
   "cell_type": "code",
   "execution_count": 56,
   "id": "ae120ab2",
   "metadata": {},
   "outputs": [
    {
     "data": {
      "text/plain": [
       "array([[-0.80689822, -0.34372377],\n",
       "       [ 0.59069049, -0.9390708 ]])"
      ]
     },
     "execution_count": 56,
     "metadata": {},
     "output_type": "execute_result"
    }
   ],
   "source": [
    "evalues\n",
    "evectors"
   ]
  },
  {
   "cell_type": "code",
   "execution_count": null,
   "id": "db102642",
   "metadata": {},
   "outputs": [],
   "source": [
    "from sklearn.tree import DecisionTreeRegressor \n",
    "from sklearn.tree import export_graphiz\n",
    "regression= DecisionTreeRegression"
   ]
  }
 ],
 "metadata": {
  "kernelspec": {
   "display_name": "Python 3 (ipykernel)",
   "language": "python",
   "name": "python3"
  },
  "language_info": {
   "codemirror_mode": {
    "name": "ipython",
    "version": 3
   },
   "file_extension": ".py",
   "mimetype": "text/x-python",
   "name": "python",
   "nbconvert_exporter": "python",
   "pygments_lexer": "ipython3",
   "version": "3.11.3"
  }
 },
 "nbformat": 4,
 "nbformat_minor": 5
}
