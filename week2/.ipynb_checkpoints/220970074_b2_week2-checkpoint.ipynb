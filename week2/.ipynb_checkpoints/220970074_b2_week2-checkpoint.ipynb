{
 "cells": [
  {
   "cell_type": "code",
   "execution_count": 1,
   "id": "3a5bf41c",
   "metadata": {},
   "outputs": [
    {
     "name": "stdout",
     "output_type": "stream",
     "text": [
      "5\n",
      "41\n",
      "[20, 36, 41]\n",
      "[5, 20, 36, 41, 50]\n",
      "[5, 20, 25, 36, 41, 50]\n",
      "[5, 20, 25, 41, 50]\n",
      "[5, 20, 25, 41, 50, 60, 65]\n"
     ]
    }
   ],
   "source": [
    "#1) Using some random data of your own perform all possible operations using Lists, Arrays and Tuples.\n",
    "# List\n",
    "\n",
    "my_list = [5, 20, 36, 41]\n",
    "\n",
    "print(my_list[0])  \n",
    "print(my_list[-1])  \n",
    "\n",
    "# Slicing\n",
    "print(my_list[1:4]) \n",
    "\n",
    "my_list.append(50)\n",
    "print(my_list)  \n",
    "\n",
    "my_list.insert(2, 25)\n",
    "print(my_list)  \n",
    "\n",
    "my_list.remove(36)\n",
    "print(my_list)  \n",
    "\n",
    "# Merge with another list\n",
    "my_list.extend([60, 65])\n",
    "print(my_list) \n",
    "\n",
    "\n"
   ]
  },
  {
   "cell_type": "code",
   "execution_count": 2,
   "id": "35f137eb",
   "metadata": {},
   "outputs": [
    {
     "name": "stdout",
     "output_type": "stream",
     "text": [
      "array('i', [1, 5, 7, 2, 6])\n",
      "array('i', [5, 7, 2])\n",
      "array('i', [1, 5, 7, 2, 6, 30])\n",
      "array('i', [1, 5, 13, 7, 2, 6, 30])\n",
      "array('i', [1, 5, 13, 7, 2, 30])\n",
      "array('i', [1, 5, 13, 7, 2, 30, 66, 67])\n",
      "6 occures 0 times\n"
     ]
    }
   ],
   "source": [
    "# Array\n",
    "\n",
    "from array import *\n",
    "\n",
    "ar = array('i',[1,5,7,2,6])\n",
    "\n",
    "print(ar)\n",
    "\n",
    "# Slicing\n",
    "print(ar[1:4]) \n",
    "\n",
    "ar.append(30)\n",
    "print(ar)  \n",
    "\n",
    "ar.insert(2, 13)\n",
    "print(ar)  \n",
    "\n",
    "ar.remove(6)\n",
    "print(ar)  \n",
    "\n",
    "# Merge with another list\n",
    "ar2 = array('i', [66,67])\n",
    "ar.extend(ar2)\n",
    "print(ar) \n",
    "\n",
    "print(\"6 occures\", ar.count(6),\"times\")\n"
   ]
  },
  {
   "cell_type": "code",
   "execution_count": 3,
   "id": "7efbbd8b",
   "metadata": {},
   "outputs": [
    {
     "name": "stdout",
     "output_type": "stream",
     "text": [
      "1\n",
      "8\n",
      "(3, 6, 7)\n",
      "(1, 3, 6, 7, 8, 9, 10)\n",
      "True\n",
      "False\n"
     ]
    }
   ],
   "source": [
    "# Tuple\n",
    "\n",
    "my_tuple = (1, 3, 6, 7, 8)\n",
    "\n",
    "print(my_tuple[0]) \n",
    "print(my_tuple[-1])  \n",
    "\n",
    "# Slicing\n",
    "print(my_tuple[1:4]) \n",
    "\n",
    "# Concatenating tuples\n",
    "new_tuple = my_tuple + (9, 10)\n",
    "print(new_tuple)  \n",
    "\n",
    "\n",
    "# Tuple comparison\n",
    "tuple1 = (1, 2, 3)\n",
    "tuple2 = (1, 2, 4)\n",
    "print(tuple1 < tuple2) \n",
    "print(tuple1 > tuple2) \n",
    "\n"
   ]
  },
  {
   "cell_type": "code",
   "execution_count": 4,
   "id": "eb6b0e8b",
   "metadata": {},
   "outputs": [
    {
     "name": "stdout",
     "output_type": "stream",
     "text": [
      "[[ 30  36  42]\n",
      " [ 66  81  96]\n",
      " [102 126 150]]\n",
      "[[1 4 7]\n",
      " [2 5 8]\n",
      " [3 6 9]]\n",
      "[[-2.   1. ]\n",
      " [ 1.5 -0.5]]\n"
     ]
    }
   ],
   "source": [
    "#2) Write a program in python using appropriate data structures to perfomr the following matrix operations:\n",
    "#(a) Matrix Multiplication,  (b) Matrix Transpose and (c) Matrix Inversion.\n",
    "\n",
    "import numpy as np\n",
    "\n",
    "m1 = np.array([\n",
    "    [1, 2, 3],\n",
    "    [4, 5, 6],\n",
    "    [7, 8, 9]\n",
    "])\n",
    "m2 = np.array([\n",
    "    [1, 2, 3],\n",
    "    [4, 5, 6],\n",
    "    [7, 8, 9]\n",
    "])\n",
    "m3 = np.array([\n",
    "    [1, 2],\n",
    "    [3, 4]\n",
    "])\n",
    "\n",
    "\n",
    "# Multiplication\n",
    "res = m1.dot(m2)\n",
    "print(res)\n",
    "\n",
    "# Transpose\n",
    "t1 = m1.transpose()\n",
    "print(t1)\n",
    "\n",
    "# Inverse\n",
    "try:\n",
    "    inverse = np.linalg.inv(m3)\n",
    "    print(inverse)\n",
    "    \n",
    "except np.linalg.LinAlgError:\n",
    "    print(\"Matrix is not invertible.\")\n"
   ]
  },
  {
   "cell_type": "code",
   "execution_count": 6,
   "id": "218e4cea",
   "metadata": {},
   "outputs": [
    {
     "name": "stdout",
     "output_type": "stream",
     "text": [
      "Length: 38\n",
      "Uppercase: HELLO WORLD, HOW CAN YOU SURVIVE HERE!\n",
      "Lowercase: hello world, how can you survive here!\n",
      "Count of 'Welcome': 0\n",
      "Index of 'World': -1\n",
      "Split string: ['Hello', 'world,', 'how', 'can', 'you', 'survive', 'here!']\n",
      "Joined string: Hello-world,-how-can-you-survive-here!\n",
      "Starts with 'Hello': True\n",
      "Ends with 'here!': False\n",
      "Substring:  world\n"
     ]
    }
   ],
   "source": [
    "#3) Using some random data of your own perform all possible operations using String based built-in functions.\n",
    "\n",
    "\n",
    "s1 = \"Hello world, how can you survive here!\"\n",
    "\n",
    "print(\"Length:\", len(s1))\n",
    "\n",
    "print(\"Uppercase:\", s1.upper())\n",
    "print(\"Lowercase:\", s1.lower())\n",
    "\n",
    "# Count occurrences of a substring\n",
    "count = s1.count(\"Welcome\")\n",
    "print(\"Count of 'Welcome':\", count)\n",
    "\n",
    "# Index of a substring\n",
    "i = s1.find(\"World\")\n",
    "print(\"Index of 'World':\", i)\n",
    "\n",
    "# Split the string into a list\n",
    "li = s1.split()\n",
    "print(\"Split string:\", li)\n",
    "\n",
    "# Join a list of strings into one\n",
    "joined = \"-\".join(li)\n",
    "print(\"Joined string:\", joined)\n",
    "\n",
    "# Check if the string starts with or ends with a substring\n",
    "strt = s1.startswith(\"Hello\")\n",
    "ends = s1.endswith(\"you!\")\n",
    "print(\"Starts with 'Hello':\", strt)\n",
    "print(\"Ends with 'here!':\", ends)\n",
    "\n",
    "# String slicing\n",
    "sub = s1[5:11]\n",
    "print(\"Substring:\", sub)"
   ]
  },
  {
   "cell_type": "code",
   "execution_count": 21,
   "id": "6cabec1f",
   "metadata": {},
   "outputs": [
    {
     "name": "stdout",
     "output_type": "stream",
     "text": [
      "Integer: 100\n",
      "Float: 0.6947681230309704\n",
      "Range Float: 10.408171287453996\n",
      "Element: 50\n",
      "Shuffled List: [10, 30, 50, 40, 20]\n",
      "String: topuonqdul\n",
      "Sample: [10, 30, 20]\n",
      "Boolean: False\n"
     ]
    }
   ],
   "source": [
    "#5) Generate random data using all available built in random functions in Python.\n",
    "\n",
    "import random\n",
    "\n",
    "i = random.randint(1, 100)\n",
    "print(\"Integer:\", i)\n",
    "\n",
    "f = random.random()\n",
    "print(\"Float:\", f)\n",
    "\n",
    "# Random float within a range\n",
    "rf = random.uniform(10, 20)\n",
    "print(\"Range Float:\", rf)\n",
    "\n",
    "# Random element from a list\n",
    "l = [10, 20, 30, 40, 50]\n",
    "ele = random.choice(l)\n",
    "print(\"Element:\", ele)\n",
    "\n",
    "# Shuffled list\n",
    "random.shuffle(l)\n",
    "print(\"Shuffled List:\", l)\n",
    "\n",
    "# Random string\n",
    "s = ''.join(random.choices('shashikanta', k=10))\n",
    "print(\"String:\", s)\n",
    "\n",
    "# Random sample from a list\n",
    "rs = random.sample(l, 3)\n",
    "print(\"Sample:\", rs)\n",
    "\n",
    "# Random boolean\n",
    "b = random.choice([True, False])\n",
    "print(\"Boolean:\", b)\n"
   ]
  },
  {
   "cell_type": "code",
   "execution_count": null,
   "id": "a442d308",
   "metadata": {},
   "outputs": [],
   "source": []
  }
 ],
 "metadata": {
  "kernelspec": {
   "display_name": "Python 3 (ipykernel)",
   "language": "python",
   "name": "python3"
  },
  "language_info": {
   "codemirror_mode": {
    "name": "ipython",
    "version": 3
   },
   "file_extension": ".py",
   "mimetype": "text/x-python",
   "name": "python",
   "nbconvert_exporter": "python",
   "pygments_lexer": "ipython3",
   "version": "3.11.3"
  }
 },
 "nbformat": 4,
 "nbformat_minor": 5
}
