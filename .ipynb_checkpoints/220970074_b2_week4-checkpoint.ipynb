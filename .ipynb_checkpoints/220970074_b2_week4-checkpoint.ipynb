{
 "cells": [
  {
   "cell_type": "markdown",
   "id": "8c1d99c1",
   "metadata": {},
   "source": [
    "# linear regression boston_house_price"
   ]
  },
  {
   "cell_type": "code",
   "execution_count": 1,
   "id": "76a4ae28",
   "metadata": {},
   "outputs": [],
   "source": [
    "import numpy as np \n",
    "import pandas as pd \n",
    "from sklearn.model_selection import train_test_split\n",
    "from sklearn.preprocessing import LabelEncoder \n",
    "from sklearn.linear_model import LinearRegression \n",
    "from sklearn.metrics import r2_score, confusion_matrix, accuracy_score \n",
    "from sklearn.preprocessing import StandardScaler \n",
    "import matplotlib.pyplot as plt"
   ]
  },
  {
   "cell_type": "code",
   "execution_count": 2,
   "id": "b97e6e32",
   "metadata": {},
   "outputs": [
    {
     "data": {
      "text/html": [
       "<div>\n",
       "<style scoped>\n",
       "    .dataframe tbody tr th:only-of-type {\n",
       "        vertical-align: middle;\n",
       "    }\n",
       "\n",
       "    .dataframe tbody tr th {\n",
       "        vertical-align: top;\n",
       "    }\n",
       "\n",
       "    .dataframe thead th {\n",
       "        text-align: right;\n",
       "    }\n",
       "</style>\n",
       "<table border=\"1\" class=\"dataframe\">\n",
       "  <thead>\n",
       "    <tr style=\"text-align: right;\">\n",
       "      <th></th>\n",
       "      <th>CRIM</th>\n",
       "      <th>ZN</th>\n",
       "      <th>INDUS</th>\n",
       "      <th>CHAS</th>\n",
       "      <th>NOX</th>\n",
       "      <th>RM</th>\n",
       "      <th>AGE</th>\n",
       "      <th>DIS</th>\n",
       "      <th>RAD</th>\n",
       "      <th>TAX</th>\n",
       "      <th>PTRATIO</th>\n",
       "      <th>B</th>\n",
       "      <th>LSTAT</th>\n",
       "      <th>MEDV</th>\n",
       "    </tr>\n",
       "  </thead>\n",
       "  <tbody>\n",
       "    <tr>\n",
       "      <th>0</th>\n",
       "      <td>0.00632</td>\n",
       "      <td>18.0</td>\n",
       "      <td>2.31</td>\n",
       "      <td>0</td>\n",
       "      <td>0.538</td>\n",
       "      <td>6.575</td>\n",
       "      <td>65.2</td>\n",
       "      <td>4.0900</td>\n",
       "      <td>1</td>\n",
       "      <td>296</td>\n",
       "      <td>15.3</td>\n",
       "      <td>396.90</td>\n",
       "      <td>4.98</td>\n",
       "      <td>24.0</td>\n",
       "    </tr>\n",
       "    <tr>\n",
       "      <th>1</th>\n",
       "      <td>0.02731</td>\n",
       "      <td>0.0</td>\n",
       "      <td>7.07</td>\n",
       "      <td>0</td>\n",
       "      <td>0.469</td>\n",
       "      <td>6.421</td>\n",
       "      <td>78.9</td>\n",
       "      <td>4.9671</td>\n",
       "      <td>2</td>\n",
       "      <td>242</td>\n",
       "      <td>17.8</td>\n",
       "      <td>396.90</td>\n",
       "      <td>9.14</td>\n",
       "      <td>21.6</td>\n",
       "    </tr>\n",
       "    <tr>\n",
       "      <th>2</th>\n",
       "      <td>0.02729</td>\n",
       "      <td>0.0</td>\n",
       "      <td>7.07</td>\n",
       "      <td>0</td>\n",
       "      <td>0.469</td>\n",
       "      <td>7.185</td>\n",
       "      <td>61.1</td>\n",
       "      <td>4.9671</td>\n",
       "      <td>2</td>\n",
       "      <td>242</td>\n",
       "      <td>17.8</td>\n",
       "      <td>392.83</td>\n",
       "      <td>4.03</td>\n",
       "      <td>34.7</td>\n",
       "    </tr>\n",
       "    <tr>\n",
       "      <th>3</th>\n",
       "      <td>0.03237</td>\n",
       "      <td>0.0</td>\n",
       "      <td>2.18</td>\n",
       "      <td>0</td>\n",
       "      <td>0.458</td>\n",
       "      <td>6.998</td>\n",
       "      <td>45.8</td>\n",
       "      <td>6.0622</td>\n",
       "      <td>3</td>\n",
       "      <td>222</td>\n",
       "      <td>18.7</td>\n",
       "      <td>394.63</td>\n",
       "      <td>2.94</td>\n",
       "      <td>33.4</td>\n",
       "    </tr>\n",
       "    <tr>\n",
       "      <th>4</th>\n",
       "      <td>0.06905</td>\n",
       "      <td>0.0</td>\n",
       "      <td>2.18</td>\n",
       "      <td>0</td>\n",
       "      <td>0.458</td>\n",
       "      <td>7.147</td>\n",
       "      <td>54.2</td>\n",
       "      <td>6.0622</td>\n",
       "      <td>3</td>\n",
       "      <td>222</td>\n",
       "      <td>18.7</td>\n",
       "      <td>396.90</td>\n",
       "      <td>5.33</td>\n",
       "      <td>36.2</td>\n",
       "    </tr>\n",
       "  </tbody>\n",
       "</table>\n",
       "</div>"
      ],
      "text/plain": [
       "      CRIM    ZN  INDUS  CHAS    NOX     RM   AGE     DIS  RAD  TAX  PTRATIO  \\\n",
       "0  0.00632  18.0   2.31     0  0.538  6.575  65.2  4.0900    1  296     15.3   \n",
       "1  0.02731   0.0   7.07     0  0.469  6.421  78.9  4.9671    2  242     17.8   \n",
       "2  0.02729   0.0   7.07     0  0.469  7.185  61.1  4.9671    2  242     17.8   \n",
       "3  0.03237   0.0   2.18     0  0.458  6.998  45.8  6.0622    3  222     18.7   \n",
       "4  0.06905   0.0   2.18     0  0.458  7.147  54.2  6.0622    3  222     18.7   \n",
       "\n",
       "        B  LSTAT  MEDV  \n",
       "0  396.90   4.98  24.0  \n",
       "1  396.90   9.14  21.6  \n",
       "2  392.83   4.03  34.7  \n",
       "3  394.63   2.94  33.4  \n",
       "4  396.90   5.33  36.2  "
      ]
     },
     "execution_count": 2,
     "metadata": {},
     "output_type": "execute_result"
    }
   ],
   "source": [
    "df = pd.read_csv(r'C:\\Users\\shash\\OneDrive\\Desktop\\mit\\3rd sem\\ml\\OneDrive_1_15-8-2023\\DATASETS-16AUG2023\\boston_house_prices.csv')\n",
    "df.head()"
   ]
  },
  {
   "cell_type": "code",
   "execution_count": null,
   "id": "4a7d2e3e",
   "metadata": {},
   "outputs": [],
   "source": [
    "plt.boxplot(column='ZN',data=df)"
   ]
  },
  {
   "cell_type": "code",
   "execution_count": null,
   "id": "da71ffce",
   "metadata": {},
   "outputs": [],
   "source": [
    "len_before = len(df)\n",
    "df = df.dropna()\n",
    "print(len_before - len(df), \"columns dropped since they had null values!\")"
   ]
  },
  {
   "cell_type": "code",
   "execution_count": null,
   "id": "4c0317fa",
   "metadata": {},
   "outputs": [],
   "source": [
    "X = df[['RM']].values\n",
    "Y = df[['MEDV']].values"
   ]
  },
  {
   "cell_type": "code",
   "execution_count": null,
   "id": "1ea6d08f",
   "metadata": {},
   "outputs": [],
   "source": [
    "splits = splits = [2,3,4,5,6,7,8,9] \n",
    "random_states = [0, 42]"
   ]
  },
  {
   "cell_type": "code",
   "execution_count": null,
   "id": "f71e3474",
   "metadata": {},
   "outputs": [],
   "source": [
    "result = []\n",
    "for split_size in splits:\n",
    "    split_size = split_size / 10\n",
    "    for random_state in random_states:\n",
    "        X_train, X_test, y_train, y_test = train_test_split(X, Y, test_size=split_size, random_state=random_state, shuffle=True)\n",
    "        lr = LinearRegression()\n",
    "        model = lr.fit(X_train, y_train)\n",
    "        y_pred = model.predict(X_test)\n",
    "        r2 = r2_score(y_test, y_pred)\n",
    "        result.append([\"boston_house_prices\", split_size, random_state, r2])\n",
    "\n",
    "result = pd.DataFrame(result, columns=[\"Data_SET\",\"train-test-split\",\"Random_State\",\"r2_score\"])"
   ]
  },
  {
   "cell_type": "code",
   "execution_count": null,
   "id": "1150212a",
   "metadata": {},
   "outputs": [],
   "source": [
    "result\n"
   ]
  },
  {
   "cell_type": "code",
   "execution_count": null,
   "id": "547a8ecd",
   "metadata": {},
   "outputs": [],
   "source": [
    "result.to_excel(\"SLR_boston.xlsx\")\n"
   ]
  },
  {
   "cell_type": "markdown",
   "id": "a6361c8f",
   "metadata": {},
   "source": [
    "# multiple linear regression boston house price dataset"
   ]
  },
  {
   "cell_type": "code",
   "execution_count": null,
   "id": "7a3b67a8",
   "metadata": {},
   "outputs": [],
   "source": [
    "df = pd.read_csv(r'C:\\Users\\shash\\OneDrive\\Desktop\\mit\\3rd sem\\ml\\OneDrive_1_15-8-2023\\DATASETS-16AUG2023\\boston_house_prices.csv')\n",
    "df.head()"
   ]
  },
  {
   "cell_type": "code",
   "execution_count": null,
   "id": "26719659",
   "metadata": {},
   "outputs": [],
   "source": [
    "len_before = len(df)\n",
    "df = df.dropna()\n",
    "print(len_before - len(df), \"columns dropped since they had null values!\")"
   ]
  },
  {
   "cell_type": "code",
   "execution_count": null,
   "id": "5333cddf",
   "metadata": {},
   "outputs": [],
   "source": [
    "X = df.drop(['MEDV'], axis=1)\n",
    "Y = df[['MEDV']].values"
   ]
  },
  {
   "cell_type": "code",
   "execution_count": null,
   "id": "666b35f2",
   "metadata": {},
   "outputs": [],
   "source": [
    "splits = splits = [2,3,4,5,6,7,8,9] \n",
    "random_states = [0, 42]"
   ]
  },
  {
   "cell_type": "code",
   "execution_count": null,
   "id": "0c5aac76",
   "metadata": {},
   "outputs": [],
   "source": [
    "result = []\n",
    "for split_size in splits:\n",
    "    split_size = split_size / 10\n",
    "    for random_state in random_states:\n",
    "        X_train, X_test, y_train, y_test = train_test_split(X, Y, test_size=split_size, random_state=random_state, shuffle=True)\n",
    "        lr = LinearRegression()\n",
    "        model = lr.fit(X_train, y_train)\n",
    "        y_pred = model.predict(X_test)\n",
    "        r2 = r2_score(y_test, y_pred)\n",
    "        result.append([\"Multilinear Regression\",\"boston_house_prices\", split_size, random_state, r2])\n",
    "\n",
    "result = pd.DataFrame(result, columns=[\"Model\",\"Data_SET\",\"train-test-split\",\"Random_State\",\"r2_score\"])"
   ]
  },
  {
   "cell_type": "code",
   "execution_count": null,
   "id": "de8770de",
   "metadata": {},
   "outputs": [],
   "source": [
    "result\n",
    "\n"
   ]
  },
  {
   "cell_type": "code",
   "execution_count": null,
   "id": "219f3f03",
   "metadata": {},
   "outputs": [],
   "source": [
    "result.to_excel(\"MLR_boston.xlsx\")"
   ]
  },
  {
   "cell_type": "markdown",
   "id": "0f7462a7",
   "metadata": {},
   "source": [
    "# multile linear regression using ccpp dataset"
   ]
  },
  {
   "cell_type": "code",
   "execution_count": null,
   "id": "5b21ee6f",
   "metadata": {},
   "outputs": [],
   "source": [
    "df = pd.read_csv(r'C:\\Users\\shash\\OneDrive\\Desktop\\mit\\3rd sem\\ml\\OneDrive_1_15-8-2023\\DATASETS-16AUG2023\\ccpp.csv')\n",
    "df.head()"
   ]
  },
  {
   "cell_type": "code",
   "execution_count": null,
   "id": "45ff4b7e",
   "metadata": {},
   "outputs": [],
   "source": [
    "len_before = len(df)\n",
    "df = df.dropna()\n",
    "print(len_before - len(df), \"columns dropped since they had null values!\")"
   ]
  },
  {
   "cell_type": "code",
   "execution_count": null,
   "id": "761162b5",
   "metadata": {},
   "outputs": [],
   "source": [
    "X = df.drop(['PE'], axis=1)\n",
    "Y = df[['PE']].values"
   ]
  },
  {
   "cell_type": "code",
   "execution_count": null,
   "id": "5ed689ae",
   "metadata": {},
   "outputs": [],
   "source": [
    "splits = splits = [2,3,4,5,6,7,8,9] \n",
    "random_states = [0, 42]"
   ]
  },
  {
   "cell_type": "code",
   "execution_count": null,
   "id": "282108cb",
   "metadata": {},
   "outputs": [],
   "source": [
    "result = []\n",
    "for split_size in splits:\n",
    "    split_size = split_size / 10\n",
    "    for random_state in random_states:\n",
    "        X_train, X_test, y_train, y_test = train_test_split(X, Y, test_size=split_size, random_state=random_state, shuffle=True)\n",
    "        lr = LinearRegression()\n",
    "        model = lr.fit(X_train, y_train)\n",
    "        y_pred = model.predict(X_test)\n",
    "        r2 = r2_score(y_test, y_pred)\n",
    "        result.append([\"Multilinear Regression\",\"CCPP\", split_size, random_state, r2])\n",
    "\n",
    "result = pd.DataFrame(result, columns=[\"Model\",\"Data_SET\",\"train-test-split\",\"Random_State\",\"r2_score\"])"
   ]
  },
  {
   "cell_type": "code",
   "execution_count": null,
   "id": "0a8730ee",
   "metadata": {},
   "outputs": [],
   "source": [
    "result"
   ]
  },
  {
   "cell_type": "code",
   "execution_count": null,
   "id": "f312b565",
   "metadata": {},
   "outputs": [],
   "source": [
    "result.to_excel(\"MLR_CCPP.xlsx\")"
   ]
  },
  {
   "cell_type": "code",
   "execution_count": null,
   "id": "6a3c9826",
   "metadata": {},
   "outputs": [],
   "source": []
  }
 ],
 "metadata": {
  "kernelspec": {
   "display_name": "Python 3 (ipykernel)",
   "language": "python",
   "name": "python3"
  },
  "language_info": {
   "codemirror_mode": {
    "name": "ipython",
    "version": 3
   },
   "file_extension": ".py",
   "mimetype": "text/x-python",
   "name": "python",
   "nbconvert_exporter": "python",
   "pygments_lexer": "ipython3",
   "version": "3.11.3"
  }
 },
 "nbformat": 4,
 "nbformat_minor": 5
}
