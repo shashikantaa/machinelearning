{
 "cells": [
  {
   "cell_type": "code",
   "execution_count": 1,
   "id": "abaa9828",
   "metadata": {},
   "outputs": [],
   "source": [
    "from sklearn.datasets import make_classification"
   ]
  },
  {
   "cell_type": "code",
   "execution_count": 8,
   "id": "85d24105",
   "metadata": {},
   "outputs": [],
   "source": [
    "#define dataset.\n",
    "x,y=make_classification(n_samples=1000,n_features=20)"
   ]
  },
  {
   "cell_type": "code",
   "execution_count": 4,
   "id": "ad1ddff8",
   "metadata": {},
   "outputs": [],
   "source": [
    "from sklearn.tree import DecisionTreeClassifier\n",
    "from sklearn.ensemble import RandomForestClassifier\n",
    "from sklearn.svm import SVC\n",
    "from sklearn.model_selection import cross_val_score\n",
    "from sklearn.model_selection import RepeatedStratifiedKFold\n",
    "from sklearn.ensemble import VotingClassifier\n",
    "from sklearn.pipeline import Pipeline"
   ]
  },
  {
   "cell_type": "code",
   "execution_count": 9,
   "id": "603fd683",
   "metadata": {},
   "outputs": [],
   "source": [
    "from collections import Counter\n",
    "counter= Counter(y)"
   ]
  },
  {
   "cell_type": "code",
   "execution_count": 10,
   "id": "99de07dc",
   "metadata": {},
   "outputs": [
    {
     "data": {
      "text/plain": [
       "Counter({0: 500, 1: 500})"
      ]
     },
     "execution_count": 10,
     "metadata": {},
     "output_type": "execute_result"
    }
   ],
   "source": [
    "counter"
   ]
  },
  {
   "cell_type": "code",
   "execution_count": 11,
   "id": "4e3bfb15",
   "metadata": {},
   "outputs": [
    {
     "data": {
      "text/plain": [
       "array([[-0.7622545 , -2.3981658 ,  0.60948802, ..., -2.28330433,\n",
       "         0.48848023, -1.50514868],\n",
       "       [-0.65444343, -0.10778487,  0.95852186, ...,  1.4012174 ,\n",
       "        -0.6989463 ,  2.23795076],\n",
       "       [-0.39310818,  0.98284893, -0.10216928, ...,  1.29730303,\n",
       "        -0.67954075, -0.04754927],\n",
       "       ...,\n",
       "       [-2.03764381, -2.14917033,  1.16681413, ..., -0.34354045,\n",
       "         2.54796217, -1.2968447 ],\n",
       "       [ 1.27548172,  1.4616313 , -0.65332411, ...,  1.83362449,\n",
       "        -1.23690676,  0.94829086],\n",
       "       [-0.56637789, -0.76140445,  1.12765546, ...,  1.51307832,\n",
       "        -0.82294072, -1.53792889]])"
      ]
     },
     "execution_count": 11,
     "metadata": {},
     "output_type": "execute_result"
    }
   ],
   "source": [
    "x"
   ]
  },
  {
   "cell_type": "code",
   "execution_count": 12,
   "id": "63f3ace8",
   "metadata": {},
   "outputs": [],
   "source": [
    "models=list()\n"
   ]
  },
  {
   "cell_type": "code",
   "execution_count": 13,
   "id": "7b696c4c",
   "metadata": {},
   "outputs": [],
   "source": [
    "#Normalization\n",
    "DTL= Pipeline([('n',DecisionTreeClassifier())])\n",
    "models.append(('decision',DTL))"
   ]
  },
  {
   "cell_type": "code",
   "execution_count": 15,
   "id": "ed39c074",
   "metadata": {},
   "outputs": [],
   "source": [
    "#Standarlization- RandomForest Classifier\n",
    "RFI=Pipeline([('n',RandomForestClassifier())])\n",
    "models.append(('RandomForest',RFI))"
   ]
  },
  {
   "cell_type": "code",
   "execution_count": 14,
   "id": "7f1c130d",
   "metadata": {},
   "outputs": [],
   "source": [
    "#Robust\n",
    "SVC= Pipeline([('n',SVC())])\n",
    "models.append(('SVC',SVC))"
   ]
  },
  {
   "cell_type": "code",
   "execution_count": 17,
   "id": "54aa66cb",
   "metadata": {},
   "outputs": [],
   "source": [
    "# define the voting ensemble\n",
    "ensemble=VotingClassifier(estimators=models,voting='hard')"
   ]
  },
  {
   "cell_type": "code",
   "execution_count": 18,
   "id": "b33eaf3a",
   "metadata": {},
   "outputs": [
    {
     "data": {
      "text/plain": [
       "[('decision', Pipeline(steps=[('n', DecisionTreeClassifier())])),\n",
       " ('SVC', Pipeline(steps=[('n', SVC())])),\n",
       " ('RandomForest', Pipeline(steps=[('n', RandomForestClassifier())]))]"
      ]
     },
     "execution_count": 18,
     "metadata": {},
     "output_type": "execute_result"
    }
   ],
   "source": [
    "models"
   ]
  },
  {
   "cell_type": "code",
   "execution_count": 22,
   "id": "0f1f5d49",
   "metadata": {},
   "outputs": [],
   "source": [
    "#cross_validation\n",
    "cv=RepeatedStratifiedKFold(n_splits=10,n_repeats=3,random_state=1)"
   ]
  },
  {
   "cell_type": "code",
   "execution_count": 23,
   "id": "313d7644",
   "metadata": {},
   "outputs": [],
   "source": [
    "n_scores=cross_val_score(ensemble,x,y,scoring='accuracy',cv=cv,n_jobs=-1)"
   ]
  },
  {
   "cell_type": "code",
   "execution_count": 24,
   "id": "adebb945",
   "metadata": {},
   "outputs": [
    {
     "data": {
      "text/plain": [
       "array([0.96, 0.95, 0.97, 0.98, 0.92, 0.98, 0.96, 0.95, 0.97, 0.95, 0.97,\n",
       "       0.94, 0.98, 0.96, 0.96, 0.96, 0.96, 0.95, 0.96, 0.96, 0.94, 0.94,\n",
       "       0.97, 0.97, 0.99, 0.94, 0.95, 0.96, 0.96, 0.97])"
      ]
     },
     "execution_count": 24,
     "metadata": {},
     "output_type": "execute_result"
    }
   ],
   "source": [
    "n_scores"
   ]
  },
  {
   "cell_type": "code",
   "execution_count": null,
   "id": "88b101e9",
   "metadata": {},
   "outputs": [],
   "source": []
  }
 ],
 "metadata": {
  "kernelspec": {
   "display_name": "Python 3 (ipykernel)",
   "language": "python",
   "name": "python3"
  },
  "language_info": {
   "codemirror_mode": {
    "name": "ipython",
    "version": 3
   },
   "file_extension": ".py",
   "mimetype": "text/x-python",
   "name": "python",
   "nbconvert_exporter": "python",
   "pygments_lexer": "ipython3",
   "version": "3.11.3"
  }
 },
 "nbformat": 4,
 "nbformat_minor": 5
}
