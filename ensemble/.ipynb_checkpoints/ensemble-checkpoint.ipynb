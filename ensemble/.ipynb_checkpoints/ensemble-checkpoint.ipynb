{
 "cells": [
  {
   "cell_type": "code",
   "execution_count": 1,
   "id": "abaa9828",
   "metadata": {},
   "outputs": [],
   "source": [
    "from sklearn.datasets import make_classification"
   ]
  },
  {
   "cell_type": "code",
   "execution_count": 2,
   "id": "85d24105",
   "metadata": {},
   "outputs": [],
   "source": [
    "#define dataset.\n",
    "x,y=make_classification(n_samples=1000,n_features=20,n_redundant=5,n_informative=15,random_state=20)"
   ]
  },
  {
   "cell_type": "code",
   "execution_count": 3,
   "id": "ad1ddff8",
   "metadata": {},
   "outputs": [],
   "source": [
    "from sklearn.tree import DecisionTreeClassifier\n",
    "from sklearn.ensemble import RandomForestClassifier\n",
    "from sklearn.svm import SVC\n",
    "from sklearn.model_selection import cross_val_score\n",
    "from sklearn.model_selection import RepeatedStratifiedKFold\n",
    "from sklearn.ensemble import VotingClassifier\n",
    "from sklearn.pipeline import Pipeline"
   ]
  },
  {
   "cell_type": "code",
   "execution_count": 4,
   "id": "603fd683",
   "metadata": {},
   "outputs": [],
   "source": [
    "from collections import Counter\n",
    "counter= Counter(y)"
   ]
  },
  {
   "cell_type": "code",
   "execution_count": 5,
   "id": "99de07dc",
   "metadata": {},
   "outputs": [
    {
     "data": {
      "text/plain": [
       "Counter({1: 503, 0: 497})"
      ]
     },
     "execution_count": 5,
     "metadata": {},
     "output_type": "execute_result"
    }
   ],
   "source": [
    "counter"
   ]
  },
  {
   "cell_type": "code",
   "execution_count": 6,
   "id": "4e3bfb15",
   "metadata": {},
   "outputs": [
    {
     "data": {
      "text/plain": [
       "array([[-2.60610714, -2.12280203,  5.34739687, ..., -0.13717659,\n",
       "        -0.73653795, -4.19360571],\n",
       "       [-3.08846736,  1.1927742 ,  2.63464957, ...,  1.39307574,\n",
       "         0.82559669, -2.19712994],\n",
       "       [-0.78484332,  2.81650809,  3.0637985 , ..., -0.35646421,\n",
       "        -2.60246166, -0.12297365],\n",
       "       ...,\n",
       "       [-4.7211488 , -4.62905489,  4.81427347, ..., -1.64374237,\n",
       "         1.86167579, -1.02207438],\n",
       "       [-4.17973408, -0.09587026, -0.49349223, ..., -1.53620359,\n",
       "        -0.09091936,  2.02292426],\n",
       "       [ 0.1634036 ,  1.59839213, -1.03092123, ...,  1.79427269,\n",
       "         2.68062993,  2.63281326]])"
      ]
     },
     "execution_count": 6,
     "metadata": {},
     "output_type": "execute_result"
    }
   ],
   "source": [
    "x"
   ]
  },
  {
   "cell_type": "code",
   "execution_count": 7,
   "id": "63f3ace8",
   "metadata": {},
   "outputs": [],
   "source": [
    "models=list()\n"
   ]
  },
  {
   "cell_type": "code",
   "execution_count": 8,
   "id": "7b696c4c",
   "metadata": {},
   "outputs": [],
   "source": [
    "#Normalization\n",
    "DTL= Pipeline([('n',DecisionTreeClassifier())])\n",
    "models.append(('decision',DTL))"
   ]
  },
  {
   "cell_type": "code",
   "execution_count": 9,
   "id": "ed39c074",
   "metadata": {},
   "outputs": [],
   "source": [
    "#Standarlization- RandomForest Classifier\n",
    "RFI=Pipeline([('n',RandomForestClassifier())])\n",
    "models.append(('RandomForest',RFI))"
   ]
  },
  {
   "cell_type": "code",
   "execution_count": 10,
   "id": "7f1c130d",
   "metadata": {},
   "outputs": [],
   "source": [
    "#Robust\n",
    "SVC= Pipeline([('n',SVC())])\n",
    "models.append(('SVC',SVC))"
   ]
  },
  {
   "cell_type": "code",
   "execution_count": 11,
   "id": "54aa66cb",
   "metadata": {},
   "outputs": [],
   "source": [
    "# define the voting ensemble\n",
    "ensemble=VotingClassifier(estimators=models,voting='hard')"
   ]
  },
  {
   "cell_type": "code",
   "execution_count": 12,
   "id": "b33eaf3a",
   "metadata": {},
   "outputs": [
    {
     "data": {
      "text/plain": [
       "[('decision', Pipeline(steps=[('n', DecisionTreeClassifier())])),\n",
       " ('RandomForest', Pipeline(steps=[('n', RandomForestClassifier())])),\n",
       " ('SVC', Pipeline(steps=[('n', SVC())]))]"
      ]
     },
     "execution_count": 12,
     "metadata": {},
     "output_type": "execute_result"
    }
   ],
   "source": [
    "models"
   ]
  },
  {
   "cell_type": "code",
   "execution_count": 13,
   "id": "0f1f5d49",
   "metadata": {},
   "outputs": [],
   "source": [
    "#cross_validation\n",
    "cv=RepeatedStratifiedKFold(n_splits=10,n_repeats=3,random_state=1)"
   ]
  },
  {
   "cell_type": "code",
   "execution_count": null,
   "id": "313d7644",
   "metadata": {},
   "outputs": [],
   "source": [
    "n_scores=cross_val_score(ensemble,x,y,scoring='accuracy',cv=cv,n_jobs=-1)"
   ]
  },
  {
   "cell_type": "code",
   "execution_count": null,
   "id": "adebb945",
   "metadata": {},
   "outputs": [],
   "source": [
    "n_scores"
   ]
  },
  {
   "cell_type": "code",
   "execution_count": null,
   "id": "88b101e9",
   "metadata": {},
   "outputs": [],
   "source": []
  }
 ],
 "metadata": {
  "kernelspec": {
   "display_name": "Python 3 (ipykernel)",
   "language": "python",
   "name": "python3"
  },
  "language_info": {
   "codemirror_mode": {
    "name": "ipython",
    "version": 3
   },
   "file_extension": ".py",
   "mimetype": "text/x-python",
   "name": "python",
   "nbconvert_exporter": "python",
   "pygments_lexer": "ipython3",
   "version": "3.11.3"
  }
 },
 "nbformat": 4,
 "nbformat_minor": 5
}
