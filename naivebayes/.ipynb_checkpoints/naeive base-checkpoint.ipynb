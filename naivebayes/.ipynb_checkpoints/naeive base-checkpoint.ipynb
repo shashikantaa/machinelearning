{
 "cells": [
  {
   "cell_type": "markdown",
   "id": "d5180be5",
   "metadata": {},
   "source": [
    "# Using golf_df dataset"
   ]
  },
  {
   "cell_type": "code",
   "execution_count": null,
   "id": "29206ea0",
   "metadata": {},
   "outputs": [],
   "source": [
    "import pandas as pd\n",
    "from sklearn.model_selection import cross_validate,train_test_split\n",
    "from sklearn.naive_bayes import GaussianNB\n",
    "from sklearn.preprocessing import LabelEncoder\n",
    "from sklearn.metrics import confusion_matrix,accuracy_score\n",
    "import seaborn as sb"
   ]
  },
  {
   "cell_type": "code",
   "execution_count": null,
   "id": "6cf89607",
   "metadata": {},
   "outputs": [],
   "source": [
    "golf_file=pd.read_csv(r\"C:\\Users\\shash\\OneDrive\\Desktop\\mit\\3rd sem\\ml\\OneDrive_1_15-8-2023\\DATASETS-16AUG2023\\golf_df.csv\")\n",
    "golf_file.head()"
   ]
  },
  {
   "cell_type": "code",
   "execution_count": null,
   "id": "4f33fff5",
   "metadata": {
    "scrolled": true
   },
   "outputs": [],
   "source": [
    "x=golf_file.drop(columns='Play')\n",
    "x"
   ]
  },
  {
   "cell_type": "code",
   "execution_count": null,
   "id": "f911db7c",
   "metadata": {},
   "outputs": [],
   "source": [
    "y=golf_file[\"Play\"]\n",
    "y"
   ]
  },
  {
   "cell_type": "code",
   "execution_count": null,
   "id": "25652df0",
   "metadata": {},
   "outputs": [],
   "source": [
    "le=LabelEncoder()\n",
    "x_en=x.apply(le.fit_transform)\n",
    "x"
   ]
  },
  {
   "cell_type": "code",
   "execution_count": null,
   "id": "5e368bcd",
   "metadata": {},
   "outputs": [],
   "source": [
    "y_en=le.fit_transform(y.values)\n",
    "y_en"
   ]
  },
  {
   "cell_type": "code",
   "execution_count": null,
   "id": "d49b7340",
   "metadata": {},
   "outputs": [],
   "source": [
    "x_test,x_train,y_test,y_train=train_test_split(x_en,y_en,test_size=0.3,shuffle=True)\n",
    "x_test.shape,x_train.shape,y_test.shape,y_train.shape"
   ]
  },
  {
   "cell_type": "code",
   "execution_count": null,
   "id": "63175a18",
   "metadata": {},
   "outputs": [],
   "source": [
    "model=GaussianNB()\n"
   ]
  },
  {
   "cell_type": "code",
   "execution_count": null,
   "id": "18041eb5",
   "metadata": {},
   "outputs": [],
   "source": [
    "model.fit(x_train,y_train)"
   ]
  },
  {
   "cell_type": "code",
   "execution_count": null,
   "id": "0e4092aa",
   "metadata": {},
   "outputs": [],
   "source": [
    "y_pred=model.predict(x_test)\n",
    "y_pred"
   ]
  },
  {
   "cell_type": "code",
   "execution_count": null,
   "id": "afb2a39b",
   "metadata": {},
   "outputs": [],
   "source": [
    "con_mat=confusion_matrix(y_pred,y_test)\n",
    "con_mat =pd.DataFrame(con_mat)\n",
    "sb.heatmap(con_mat,annot=True)"
   ]
  },
  {
   "cell_type": "markdown",
   "id": "e46e2401",
   "metadata": {},
   "source": [
    "#  Using weatherHistory dataset"
   ]
  },
  {
   "cell_type": "code",
   "execution_count": null,
   "id": "1f373c5b",
   "metadata": {},
   "outputs": [],
   "source": [
    "data=pd.read_csv(r\"C:\\Users\\shash\\OneDrive\\Desktop\\mit\\3rd sem\\ml\\OneDrive_1_15-8-2023\\DATASETS-16AUG2023\\weatherHistory.csv\")\n",
    "data.head\n"
   ]
  },
  {
   "cell_type": "code",
   "execution_count": null,
   "id": "508c00fa",
   "metadata": {},
   "outputs": [],
   "source": []
  }
 ],
 "metadata": {
  "kernelspec": {
   "display_name": "Python 3 (ipykernel)",
   "language": "python",
   "name": "python3"
  },
  "language_info": {
   "codemirror_mode": {
    "name": "ipython",
    "version": 3
   },
   "file_extension": ".py",
   "mimetype": "text/x-python",
   "name": "python",
   "nbconvert_exporter": "python",
   "pygments_lexer": "ipython3",
   "version": "3.11.3"
  }
 },
 "nbformat": 4,
 "nbformat_minor": 5
}
